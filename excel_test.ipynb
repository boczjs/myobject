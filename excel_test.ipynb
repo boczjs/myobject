{
 "cells": [
  {
   "cell_type": "code",
   "execution_count": 3,
   "metadata": {},
   "outputs": [
    {
     "output_type": "stream",
     "name": "stdout",
     "text": "3\n"
    }
   ],
   "source": [
    "import numpy as np \n",
    "import matplotlib.pyplot as plt\n",
    "a=np.arange(1.48,1)\n",
    "h=2\n",
    "for n in range(len(a)):\n",
    "    n=n+1\n",
    "print(n)"
   ]
  },
  {
   "cell_type": "code",
   "execution_count": 14,
   "metadata": {},
   "outputs": [
    {
     "output_type": "error",
     "ename": "PermissionError",
     "evalue": "[Errno 13] Permission denied: 'test.xlsx'",
     "traceback": [
      "\u001b[1;31m---------------------------------------------------------------------------\u001b[0m",
      "\u001b[1;31mPermissionError\u001b[0m                           Traceback (most recent call last)",
      "\u001b[1;32m<ipython-input-14-2b1a084e75dd>\u001b[0m in \u001b[0;36m<module>\u001b[1;34m\u001b[0m\n\u001b[0;32m      2\u001b[0m \u001b[0mwb\u001b[0m\u001b[1;33m=\u001b[0m\u001b[0mop\u001b[0m\u001b[1;33m.\u001b[0m\u001b[0mWorkbook\u001b[0m\u001b[1;33m(\u001b[0m\u001b[1;33m)\u001b[0m\u001b[1;33m\u001b[0m\u001b[1;33m\u001b[0m\u001b[0m\n\u001b[0;32m      3\u001b[0m \u001b[0mwb\u001b[0m\u001b[1;33m.\u001b[0m\u001b[0mcreate_sheet\u001b[0m\u001b[1;33m(\u001b[0m\u001b[1;34m'test'\u001b[0m\u001b[1;33m)\u001b[0m\u001b[1;33m\u001b[0m\u001b[1;33m\u001b[0m\u001b[0m\n\u001b[1;32m----> 4\u001b[1;33m \u001b[0mwb\u001b[0m\u001b[1;33m.\u001b[0m\u001b[0msave\u001b[0m\u001b[1;33m(\u001b[0m\u001b[1;34m'test.xlsx'\u001b[0m\u001b[1;33m)\u001b[0m\u001b[1;33m\u001b[0m\u001b[1;33m\u001b[0m\u001b[0m\n\u001b[0m\u001b[0;32m      5\u001b[0m \u001b[0mwb\u001b[0m\u001b[1;33m=\u001b[0m\u001b[0mop\u001b[0m\u001b[1;33m.\u001b[0m\u001b[0mload_workbook\u001b[0m\u001b[1;33m(\u001b[0m\u001b[1;34m'test.xlsx'\u001b[0m\u001b[1;33m)\u001b[0m\u001b[1;33m\u001b[0m\u001b[1;33m\u001b[0m\u001b[0m\n\u001b[0;32m      6\u001b[0m \u001b[0msh\u001b[0m\u001b[1;33m=\u001b[0m\u001b[0mwb\u001b[0m\u001b[1;33m[\u001b[0m\u001b[1;34m'Sheet'\u001b[0m\u001b[1;33m]\u001b[0m\u001b[1;33m\u001b[0m\u001b[1;33m\u001b[0m\u001b[0m\n",
      "\u001b[1;32me:\\anaconda3\\lib\\site-packages\\openpyxl\\workbook\\workbook.py\u001b[0m in \u001b[0;36msave\u001b[1;34m(self, filename)\u001b[0m\n\u001b[0;32m    390\u001b[0m         \u001b[1;32mif\u001b[0m \u001b[0mself\u001b[0m\u001b[1;33m.\u001b[0m\u001b[0mwrite_only\u001b[0m \u001b[1;32mand\u001b[0m \u001b[1;32mnot\u001b[0m \u001b[0mself\u001b[0m\u001b[1;33m.\u001b[0m\u001b[0mworksheets\u001b[0m\u001b[1;33m:\u001b[0m\u001b[1;33m\u001b[0m\u001b[1;33m\u001b[0m\u001b[0m\n\u001b[0;32m    391\u001b[0m             \u001b[0mself\u001b[0m\u001b[1;33m.\u001b[0m\u001b[0mcreate_sheet\u001b[0m\u001b[1;33m(\u001b[0m\u001b[1;33m)\u001b[0m\u001b[1;33m\u001b[0m\u001b[1;33m\u001b[0m\u001b[0m\n\u001b[1;32m--> 392\u001b[1;33m         \u001b[0msave_workbook\u001b[0m\u001b[1;33m(\u001b[0m\u001b[0mself\u001b[0m\u001b[1;33m,\u001b[0m \u001b[0mfilename\u001b[0m\u001b[1;33m)\u001b[0m\u001b[1;33m\u001b[0m\u001b[1;33m\u001b[0m\u001b[0m\n\u001b[0m\u001b[0;32m    393\u001b[0m \u001b[1;33m\u001b[0m\u001b[0m\n\u001b[0;32m    394\u001b[0m \u001b[1;33m\u001b[0m\u001b[0m\n",
      "\u001b[1;32me:\\anaconda3\\lib\\site-packages\\openpyxl\\writer\\excel.py\u001b[0m in \u001b[0;36msave_workbook\u001b[1;34m(workbook, filename)\u001b[0m\n\u001b[0;32m    289\u001b[0m \u001b[1;33m\u001b[0m\u001b[0m\n\u001b[0;32m    290\u001b[0m     \"\"\"\n\u001b[1;32m--> 291\u001b[1;33m     \u001b[0marchive\u001b[0m \u001b[1;33m=\u001b[0m \u001b[0mZipFile\u001b[0m\u001b[1;33m(\u001b[0m\u001b[0mfilename\u001b[0m\u001b[1;33m,\u001b[0m \u001b[1;34m'w'\u001b[0m\u001b[1;33m,\u001b[0m \u001b[0mZIP_DEFLATED\u001b[0m\u001b[1;33m,\u001b[0m \u001b[0mallowZip64\u001b[0m\u001b[1;33m=\u001b[0m\u001b[1;32mTrue\u001b[0m\u001b[1;33m)\u001b[0m\u001b[1;33m\u001b[0m\u001b[1;33m\u001b[0m\u001b[0m\n\u001b[0m\u001b[0;32m    292\u001b[0m     \u001b[0mwriter\u001b[0m \u001b[1;33m=\u001b[0m \u001b[0mExcelWriter\u001b[0m\u001b[1;33m(\u001b[0m\u001b[0mworkbook\u001b[0m\u001b[1;33m,\u001b[0m \u001b[0marchive\u001b[0m\u001b[1;33m)\u001b[0m\u001b[1;33m\u001b[0m\u001b[1;33m\u001b[0m\u001b[0m\n\u001b[0;32m    293\u001b[0m     \u001b[0mwriter\u001b[0m\u001b[1;33m.\u001b[0m\u001b[0msave\u001b[0m\u001b[1;33m(\u001b[0m\u001b[1;33m)\u001b[0m\u001b[1;33m\u001b[0m\u001b[1;33m\u001b[0m\u001b[0m\n",
      "\u001b[1;32me:\\anaconda3\\lib\\zipfile.py\u001b[0m in \u001b[0;36m__init__\u001b[1;34m(self, file, mode, compression, allowZip64, compresslevel)\u001b[0m\n\u001b[0;32m   1238\u001b[0m             \u001b[1;32mwhile\u001b[0m \u001b[1;32mTrue\u001b[0m\u001b[1;33m:\u001b[0m\u001b[1;33m\u001b[0m\u001b[1;33m\u001b[0m\u001b[0m\n\u001b[0;32m   1239\u001b[0m                 \u001b[1;32mtry\u001b[0m\u001b[1;33m:\u001b[0m\u001b[1;33m\u001b[0m\u001b[1;33m\u001b[0m\u001b[0m\n\u001b[1;32m-> 1240\u001b[1;33m                     \u001b[0mself\u001b[0m\u001b[1;33m.\u001b[0m\u001b[0mfp\u001b[0m \u001b[1;33m=\u001b[0m \u001b[0mio\u001b[0m\u001b[1;33m.\u001b[0m\u001b[0mopen\u001b[0m\u001b[1;33m(\u001b[0m\u001b[0mfile\u001b[0m\u001b[1;33m,\u001b[0m \u001b[0mfilemode\u001b[0m\u001b[1;33m)\u001b[0m\u001b[1;33m\u001b[0m\u001b[1;33m\u001b[0m\u001b[0m\n\u001b[0m\u001b[0;32m   1241\u001b[0m                 \u001b[1;32mexcept\u001b[0m \u001b[0mOSError\u001b[0m\u001b[1;33m:\u001b[0m\u001b[1;33m\u001b[0m\u001b[1;33m\u001b[0m\u001b[0m\n\u001b[0;32m   1242\u001b[0m                     \u001b[1;32mif\u001b[0m \u001b[0mfilemode\u001b[0m \u001b[1;32min\u001b[0m \u001b[0mmodeDict\u001b[0m\u001b[1;33m:\u001b[0m\u001b[1;33m\u001b[0m\u001b[1;33m\u001b[0m\u001b[0m\n",
      "\u001b[1;31mPermissionError\u001b[0m: [Errno 13] Permission denied: 'test.xlsx'"
     ]
    }
   ],
   "source": [
    "import openpyxl as op \n",
    "wb=op.Workbook()\n",
    "wb.create_sheet('test')\n",
    "wb.save('test.xlsx')\n"
   ]
  },
  {
   "cell_type": "code",
   "execution_count": 15,
   "metadata": {},
   "outputs": [],
   "source": [
    "wb=op.load_workbook('test.xlsx')\n",
    "sh=wb['Sheet']\n",
    "wb.close()\n",
    "sh.cell(row=1,column=4,value='result')\n",
    "wb.save('test.xlsx')"
   ]
  },
  {
   "cell_type": "code",
   "execution_count": 91,
   "metadata": {},
   "outputs": [],
   "source": [
    "import numpy as np \n",
    "import pandas as pd \n",
    "from openpyxl.styles import fills,colors,NamedStyle,Font,Side,Border,PatternFill,Alignment,Protection\n",
    "df=pd.read_excel('test.xlsx',sheet_name='test')\n",
    "jg_name=df['name']\n",
    "fwq_name=df['fwq_name']\n",
    "wz=df['wz']\n",
    "jg_name=df['name'].unique()\n",
    "aaa=df[df['name']==jg_name[0]]\n",
    "\n",
    "h=np.arange(1,48,1)\n",
    "wb=op.load_workbook('test.xlsx')\n",
    "sh=wb['Sheet']\n",
    "fill = PatternFill(fill_type=\"solid\",\n",
    "        start_color='545454',#单元格填充色\n",
    "        end_color='545454')\n",
    "alignment=Alignment(horizontal='center')\n",
    "bd = Border(left=Side(border_style=\"thin\",\n",
    "                  color='0000FF'),\n",
    "        right=Side(border_style=\"double\",\n",
    "                   color='5C3317'),\n",
    "        top=Side(border_style=\"thin\",\n",
    "                 color='FF110000'),\n",
    "        bottom=Side(border_style=\"hair\",\n",
    "                    color='238E23'),\n",
    "        diagonal=Side(border_style='dashed',#对角线\n",
    "                      color='3299CC'),\n",
    "        diagonal_direction=1,\n",
    "        outline=Side(border_style='slantDashDot',#外边框\n",
    "                     color='BC1717'),\n",
    "        vertical=Side(border_style='medium',#竖直线\n",
    "                      color=colors.BLACK),\n",
    "        horizontal=Side(border_style='dotted',#水平线\n",
    "                       color=colors.WHITE)\n",
    "                    )\n",
    "\n",
    "a=1\n",
    "b=2\n",
    "for t in range(1,2*(len(jg_name))+1):\n",
    "    #sh.cell(row=1,column=2*a,value=jg_name[t-1])\n",
    "   \n",
    "    for n in h:\n",
    "      \n",
    "        fwq_row=n+1\n",
    "        fwq_column=a\n",
    "        fwq_value=48-n\n",
    "        sh.cell(row=fwq_row,column=fwq_column,value=fwq_value)\n",
    "        sh.cell(fwq_row,fwq_column).fill=fill\n",
    "        sh.cell(fwq_row,fwq_column).alignment=alignment\n",
    "        sh.cell(fwq_row,fwq_column).border=bd\n",
    "    a=a+2\n",
    "for t in range(1,len(jg_name)+1):\n",
    "    sh.cell(row=1,column=b,value=jg_name[t-1])\n",
    "    sh.cell(1,b).alignment=alignment \n",
    "    sh.cell(1,b).fill=fill\n",
    "    sh.cell(1,b).border=bd\n",
    "    b=b+4         \n",
    "        \n",
    "\n",
    "wb.save('test.xlsx')\n",
    "    \n",
    "\n",
    "\n"
   ]
  },
  {
   "cell_type": "code",
   "execution_count": 76,
   "metadata": {},
   "outputs": [
    {
     "output_type": "stream",
     "name": "stdout",
     "text": "name fwq_name  wz\n0  aaa     a111   2\n1  aaa     a222   3\n2  aaa     a333   4\n3  aaa     a444   5\n"
    }
   ],
   "source": [
    "import pandas as pd \n",
    "df=pd.read_excel('test.xlsx',sheet_name='test')\n",
    "jg_name=df['name'].unique()\n",
    "aaa=df[df['name']==jg_name[0]]\n",
    "print(aaa)\n"
   ]
  },
  {
   "cell_type": "code",
   "execution_count": 6,
   "metadata": {},
   "outputs": [
    {
     "output_type": "display_data",
     "data": {
      "text/plain": "<Figure size 432x288 with 1 Axes>",
      "image/svg+xml": "<?xml version=\"1.0\" encoding=\"utf-8\" standalone=\"no\"?>\r\n<!DOCTYPE svg PUBLIC \"-//W3C//DTD SVG 1.1//EN\"\r\n  \"http://www.w3.org/Graphics/SVG/1.1/DTD/svg11.dtd\">\r\n<!-- Created with matplotlib (https://matplotlib.org/) -->\r\n<svg height=\"248.606043pt\" version=\"1.1\" viewBox=\"0 0 362.5625 248.606043\" width=\"362.5625pt\" xmlns=\"http://www.w3.org/2000/svg\" xmlns:xlink=\"http://www.w3.org/1999/xlink\">\r\n <defs>\r\n  <style type=\"text/css\">\r\n*{stroke-linecap:butt;stroke-linejoin:round;}\r\n  </style>\r\n </defs>\r\n <g id=\"figure_1\">\r\n  <g id=\"patch_1\">\r\n   <path d=\"M 0 248.606043 \r\nL 362.5625 248.606043 \r\nL 362.5625 0 \r\nL 0 0 \r\nz\r\n\" style=\"fill:none;\"/>\r\n  </g>\r\n  <g id=\"axes_1\">\r\n   <g id=\"patch_2\">\r\n    <path d=\"M 20.5625 224.727918 \r\nL 355.3625 224.727918 \r\nL 355.3625 7.287918 \r\nL 20.5625 7.287918 \r\nz\r\n\" style=\"fill:#ffffff;\"/>\r\n   </g>\r\n   <g id=\"matplotlib.axis_1\">\r\n    <g id=\"xtick_1\">\r\n     <g id=\"line2d_1\">\r\n      <path clip-path=\"url(#pc42b083dee)\" d=\"M 35.780682 224.727918 \r\nL 35.780682 7.287918 \r\n\" style=\"fill:none;stroke:#b0b0b0;stroke-linecap:square;stroke-width:0.8;\"/>\r\n     </g>\r\n     <g id=\"line2d_2\">\r\n      <defs>\r\n       <path d=\"M 0 0 \r\nL 0 3.5 \r\n\" id=\"md7686118e2\" style=\"stroke:#000000;stroke-width:0.8;\"/>\r\n      </defs>\r\n      <g>\r\n       <use style=\"stroke:#000000;stroke-width:0.8;\" x=\"35.780682\" xlink:href=\"#md7686118e2\" y=\"224.727918\"/>\r\n      </g>\r\n     </g>\r\n     <g id=\"text_1\">\r\n      <!-- −3 -->\r\n      <defs>\r\n       <path d=\"M 10.59375 35.5 \r\nL 73.1875 35.5 \r\nL 73.1875 27.203125 \r\nL 10.59375 27.203125 \r\nz\r\n\" id=\"DejaVuSans-8722\"/>\r\n       <path d=\"M 40.578125 39.3125 \r\nQ 47.65625 37.796875 51.625 33 \r\nQ 55.609375 28.21875 55.609375 21.1875 \r\nQ 55.609375 10.40625 48.1875 4.484375 \r\nQ 40.765625 -1.421875 27.09375 -1.421875 \r\nQ 22.515625 -1.421875 17.65625 -0.515625 \r\nQ 12.796875 0.390625 7.625 2.203125 \r\nL 7.625 11.71875 \r\nQ 11.71875 9.328125 16.59375 8.109375 \r\nQ 21.484375 6.890625 26.8125 6.890625 \r\nQ 36.078125 6.890625 40.9375 10.546875 \r\nQ 45.796875 14.203125 45.796875 21.1875 \r\nQ 45.796875 27.640625 41.28125 31.265625 \r\nQ 36.765625 34.90625 28.71875 34.90625 \r\nL 20.21875 34.90625 \r\nL 20.21875 43.015625 \r\nL 29.109375 43.015625 \r\nQ 36.375 43.015625 40.234375 45.921875 \r\nQ 44.09375 48.828125 44.09375 54.296875 \r\nQ 44.09375 59.90625 40.109375 62.90625 \r\nQ 36.140625 65.921875 28.71875 65.921875 \r\nQ 24.65625 65.921875 20.015625 65.03125 \r\nQ 15.375 64.15625 9.8125 62.3125 \r\nL 9.8125 71.09375 \r\nQ 15.4375 72.65625 20.34375 73.4375 \r\nQ 25.25 74.21875 29.59375 74.21875 \r\nQ 40.828125 74.21875 47.359375 69.109375 \r\nQ 53.90625 64.015625 53.90625 55.328125 \r\nQ 53.90625 49.265625 50.4375 45.09375 \r\nQ 46.96875 40.921875 40.578125 39.3125 \r\nz\r\n\" id=\"DejaVuSans-51\"/>\r\n      </defs>\r\n      <g transform=\"translate(28.409588 239.326356)scale(0.1 -0.1)\">\r\n       <use xlink:href=\"#DejaVuSans-8722\"/>\r\n       <use x=\"83.789062\" xlink:href=\"#DejaVuSans-51\"/>\r\n      </g>\r\n     </g>\r\n    </g>\r\n    <g id=\"xtick_2\">\r\n     <g id=\"line2d_3\">\r\n      <path clip-path=\"url(#pc42b083dee)\" d=\"M 86.934234 224.727918 \r\nL 86.934234 7.287918 \r\n\" style=\"fill:none;stroke:#b0b0b0;stroke-linecap:square;stroke-width:0.8;\"/>\r\n     </g>\r\n     <g id=\"line2d_4\">\r\n      <g>\r\n       <use style=\"stroke:#000000;stroke-width:0.8;\" x=\"86.934234\" xlink:href=\"#md7686118e2\" y=\"224.727918\"/>\r\n      </g>\r\n     </g>\r\n     <g id=\"text_2\">\r\n      <!-- −2 -->\r\n      <defs>\r\n       <path d=\"M 19.1875 8.296875 \r\nL 53.609375 8.296875 \r\nL 53.609375 0 \r\nL 7.328125 0 \r\nL 7.328125 8.296875 \r\nQ 12.9375 14.109375 22.625 23.890625 \r\nQ 32.328125 33.6875 34.8125 36.53125 \r\nQ 39.546875 41.84375 41.421875 45.53125 \r\nQ 43.3125 49.21875 43.3125 52.78125 \r\nQ 43.3125 58.59375 39.234375 62.25 \r\nQ 35.15625 65.921875 28.609375 65.921875 \r\nQ 23.96875 65.921875 18.8125 64.3125 \r\nQ 13.671875 62.703125 7.8125 59.421875 \r\nL 7.8125 69.390625 \r\nQ 13.765625 71.78125 18.9375 73 \r\nQ 24.125 74.21875 28.421875 74.21875 \r\nQ 39.75 74.21875 46.484375 68.546875 \r\nQ 53.21875 62.890625 53.21875 53.421875 \r\nQ 53.21875 48.921875 51.53125 44.890625 \r\nQ 49.859375 40.875 45.40625 35.40625 \r\nQ 44.1875 33.984375 37.640625 27.21875 \r\nQ 31.109375 20.453125 19.1875 8.296875 \r\nz\r\n\" id=\"DejaVuSans-50\"/>\r\n      </defs>\r\n      <g transform=\"translate(79.56314 239.326356)scale(0.1 -0.1)\">\r\n       <use xlink:href=\"#DejaVuSans-8722\"/>\r\n       <use x=\"83.789062\" xlink:href=\"#DejaVuSans-50\"/>\r\n      </g>\r\n     </g>\r\n    </g>\r\n    <g id=\"xtick_3\">\r\n     <g id=\"line2d_5\">\r\n      <path clip-path=\"url(#pc42b083dee)\" d=\"M 138.087786 224.727918 \r\nL 138.087786 7.287918 \r\n\" style=\"fill:none;stroke:#b0b0b0;stroke-linecap:square;stroke-width:0.8;\"/>\r\n     </g>\r\n     <g id=\"line2d_6\">\r\n      <g>\r\n       <use style=\"stroke:#000000;stroke-width:0.8;\" x=\"138.087786\" xlink:href=\"#md7686118e2\" y=\"224.727918\"/>\r\n      </g>\r\n     </g>\r\n     <g id=\"text_3\">\r\n      <!-- −1 -->\r\n      <defs>\r\n       <path d=\"M 12.40625 8.296875 \r\nL 28.515625 8.296875 \r\nL 28.515625 63.921875 \r\nL 10.984375 60.40625 \r\nL 10.984375 69.390625 \r\nL 28.421875 72.90625 \r\nL 38.28125 72.90625 \r\nL 38.28125 8.296875 \r\nL 54.390625 8.296875 \r\nL 54.390625 0 \r\nL 12.40625 0 \r\nz\r\n\" id=\"DejaVuSans-49\"/>\r\n      </defs>\r\n      <g transform=\"translate(130.716693 239.326356)scale(0.1 -0.1)\">\r\n       <use xlink:href=\"#DejaVuSans-8722\"/>\r\n       <use x=\"83.789062\" xlink:href=\"#DejaVuSans-49\"/>\r\n      </g>\r\n     </g>\r\n    </g>\r\n    <g id=\"xtick_4\">\r\n     <g id=\"line2d_7\">\r\n      <path clip-path=\"url(#pc42b083dee)\" d=\"M 189.241339 224.727918 \r\nL 189.241339 7.287918 \r\n\" style=\"fill:none;stroke:#b0b0b0;stroke-linecap:square;stroke-width:0.8;\"/>\r\n     </g>\r\n     <g id=\"line2d_8\">\r\n      <g>\r\n       <use style=\"stroke:#000000;stroke-width:0.8;\" x=\"189.241339\" xlink:href=\"#md7686118e2\" y=\"224.727918\"/>\r\n      </g>\r\n     </g>\r\n     <g id=\"text_4\">\r\n      <!-- 0 -->\r\n      <defs>\r\n       <path d=\"M 31.78125 66.40625 \r\nQ 24.171875 66.40625 20.328125 58.90625 \r\nQ 16.5 51.421875 16.5 36.375 \r\nQ 16.5 21.390625 20.328125 13.890625 \r\nQ 24.171875 6.390625 31.78125 6.390625 \r\nQ 39.453125 6.390625 43.28125 13.890625 \r\nQ 47.125 21.390625 47.125 36.375 \r\nQ 47.125 51.421875 43.28125 58.90625 \r\nQ 39.453125 66.40625 31.78125 66.40625 \r\nz\r\nM 31.78125 74.21875 \r\nQ 44.046875 74.21875 50.515625 64.515625 \r\nQ 56.984375 54.828125 56.984375 36.375 \r\nQ 56.984375 17.96875 50.515625 8.265625 \r\nQ 44.046875 -1.421875 31.78125 -1.421875 \r\nQ 19.53125 -1.421875 13.0625 8.265625 \r\nQ 6.59375 17.96875 6.59375 36.375 \r\nQ 6.59375 54.828125 13.0625 64.515625 \r\nQ 19.53125 74.21875 31.78125 74.21875 \r\nz\r\n\" id=\"DejaVuSans-48\"/>\r\n      </defs>\r\n      <g transform=\"translate(186.060089 239.326356)scale(0.1 -0.1)\">\r\n       <use xlink:href=\"#DejaVuSans-48\"/>\r\n      </g>\r\n     </g>\r\n    </g>\r\n    <g id=\"xtick_5\">\r\n     <g id=\"line2d_9\">\r\n      <path clip-path=\"url(#pc42b083dee)\" d=\"M 240.394891 224.727918 \r\nL 240.394891 7.287918 \r\n\" style=\"fill:none;stroke:#b0b0b0;stroke-linecap:square;stroke-width:0.8;\"/>\r\n     </g>\r\n     <g id=\"line2d_10\">\r\n      <g>\r\n       <use style=\"stroke:#000000;stroke-width:0.8;\" x=\"240.394891\" xlink:href=\"#md7686118e2\" y=\"224.727918\"/>\r\n      </g>\r\n     </g>\r\n     <g id=\"text_5\">\r\n      <!-- 1 -->\r\n      <g transform=\"translate(237.213641 239.326356)scale(0.1 -0.1)\">\r\n       <use xlink:href=\"#DejaVuSans-49\"/>\r\n      </g>\r\n     </g>\r\n    </g>\r\n    <g id=\"xtick_6\">\r\n     <g id=\"line2d_11\">\r\n      <path clip-path=\"url(#pc42b083dee)\" d=\"M 291.548443 224.727918 \r\nL 291.548443 7.287918 \r\n\" style=\"fill:none;stroke:#b0b0b0;stroke-linecap:square;stroke-width:0.8;\"/>\r\n     </g>\r\n     <g id=\"line2d_12\">\r\n      <g>\r\n       <use style=\"stroke:#000000;stroke-width:0.8;\" x=\"291.548443\" xlink:href=\"#md7686118e2\" y=\"224.727918\"/>\r\n      </g>\r\n     </g>\r\n     <g id=\"text_6\">\r\n      <!-- 2 -->\r\n      <g transform=\"translate(288.367193 239.326356)scale(0.1 -0.1)\">\r\n       <use xlink:href=\"#DejaVuSans-50\"/>\r\n      </g>\r\n     </g>\r\n    </g>\r\n    <g id=\"xtick_7\">\r\n     <g id=\"line2d_13\">\r\n      <path clip-path=\"url(#pc42b083dee)\" d=\"M 342.701996 224.727918 \r\nL 342.701996 7.287918 \r\n\" style=\"fill:none;stroke:#b0b0b0;stroke-linecap:square;stroke-width:0.8;\"/>\r\n     </g>\r\n     <g id=\"line2d_14\">\r\n      <g>\r\n       <use style=\"stroke:#000000;stroke-width:0.8;\" x=\"342.701996\" xlink:href=\"#md7686118e2\" y=\"224.727918\"/>\r\n      </g>\r\n     </g>\r\n     <g id=\"text_7\">\r\n      <!-- 3 -->\r\n      <g transform=\"translate(339.520746 239.326356)scale(0.1 -0.1)\">\r\n       <use xlink:href=\"#DejaVuSans-51\"/>\r\n      </g>\r\n     </g>\r\n    </g>\r\n   </g>\r\n   <g id=\"matplotlib.axis_2\">\r\n    <g id=\"ytick_1\">\r\n     <g id=\"line2d_15\">\r\n      <path clip-path=\"url(#pc42b083dee)\" d=\"M 20.5625 192.199184 \r\nL 355.3625 192.199184 \r\n\" style=\"fill:none;stroke:#b0b0b0;stroke-linecap:square;stroke-width:0.8;\"/>\r\n     </g>\r\n     <g id=\"line2d_16\">\r\n      <defs>\r\n       <path d=\"M 0 0 \r\nL -3.5 0 \r\n\" id=\"mf25e0717df\" style=\"stroke:#000000;stroke-width:0.8;\"/>\r\n      </defs>\r\n      <g>\r\n       <use style=\"stroke:#000000;stroke-width:0.8;\" x=\"20.5625\" xlink:href=\"#mf25e0717df\" y=\"192.199184\"/>\r\n      </g>\r\n     </g>\r\n     <g id=\"text_8\">\r\n      <!-- 0 -->\r\n      <g transform=\"translate(7.2 195.998403)scale(0.1 -0.1)\">\r\n       <use xlink:href=\"#DejaVuSans-48\"/>\r\n      </g>\r\n     </g>\r\n    </g>\r\n    <g id=\"ytick_2\">\r\n     <g id=\"line2d_17\">\r\n      <path clip-path=\"url(#pc42b083dee)\" d=\"M 20.5625 146.899193 \r\nL 355.3625 146.899193 \r\n\" style=\"fill:none;stroke:#b0b0b0;stroke-linecap:square;stroke-width:0.8;\"/>\r\n     </g>\r\n     <g id=\"line2d_18\">\r\n      <g>\r\n       <use style=\"stroke:#000000;stroke-width:0.8;\" x=\"20.5625\" xlink:href=\"#mf25e0717df\" y=\"146.899193\"/>\r\n      </g>\r\n     </g>\r\n     <g id=\"text_9\">\r\n      <!-- 2 -->\r\n      <g transform=\"translate(7.2 150.698412)scale(0.1 -0.1)\">\r\n       <use xlink:href=\"#DejaVuSans-50\"/>\r\n      </g>\r\n     </g>\r\n    </g>\r\n    <g id=\"ytick_3\">\r\n     <g id=\"line2d_19\">\r\n      <path clip-path=\"url(#pc42b083dee)\" d=\"M 20.5625 101.599201 \r\nL 355.3625 101.599201 \r\n\" style=\"fill:none;stroke:#b0b0b0;stroke-linecap:square;stroke-width:0.8;\"/>\r\n     </g>\r\n     <g id=\"line2d_20\">\r\n      <g>\r\n       <use style=\"stroke:#000000;stroke-width:0.8;\" x=\"20.5625\" xlink:href=\"#mf25e0717df\" y=\"101.599201\"/>\r\n      </g>\r\n     </g>\r\n     <g id=\"text_10\">\r\n      <!-- 4 -->\r\n      <defs>\r\n       <path d=\"M 37.796875 64.3125 \r\nL 12.890625 25.390625 \r\nL 37.796875 25.390625 \r\nz\r\nM 35.203125 72.90625 \r\nL 47.609375 72.90625 \r\nL 47.609375 25.390625 \r\nL 58.015625 25.390625 \r\nL 58.015625 17.1875 \r\nL 47.609375 17.1875 \r\nL 47.609375 0 \r\nL 37.796875 0 \r\nL 37.796875 17.1875 \r\nL 4.890625 17.1875 \r\nL 4.890625 26.703125 \r\nz\r\n\" id=\"DejaVuSans-52\"/>\r\n      </defs>\r\n      <g transform=\"translate(7.2 105.39842)scale(0.1 -0.1)\">\r\n       <use xlink:href=\"#DejaVuSans-52\"/>\r\n      </g>\r\n     </g>\r\n    </g>\r\n    <g id=\"ytick_4\">\r\n     <g id=\"line2d_21\">\r\n      <path clip-path=\"url(#pc42b083dee)\" d=\"M 20.5625 56.29921 \r\nL 355.3625 56.29921 \r\n\" style=\"fill:none;stroke:#b0b0b0;stroke-linecap:square;stroke-width:0.8;\"/>\r\n     </g>\r\n     <g id=\"line2d_22\">\r\n      <g>\r\n       <use style=\"stroke:#000000;stroke-width:0.8;\" x=\"20.5625\" xlink:href=\"#mf25e0717df\" y=\"56.29921\"/>\r\n      </g>\r\n     </g>\r\n     <g id=\"text_11\">\r\n      <!-- 6 -->\r\n      <defs>\r\n       <path d=\"M 33.015625 40.375 \r\nQ 26.375 40.375 22.484375 35.828125 \r\nQ 18.609375 31.296875 18.609375 23.390625 \r\nQ 18.609375 15.53125 22.484375 10.953125 \r\nQ 26.375 6.390625 33.015625 6.390625 \r\nQ 39.65625 6.390625 43.53125 10.953125 \r\nQ 47.40625 15.53125 47.40625 23.390625 \r\nQ 47.40625 31.296875 43.53125 35.828125 \r\nQ 39.65625 40.375 33.015625 40.375 \r\nz\r\nM 52.59375 71.296875 \r\nL 52.59375 62.3125 \r\nQ 48.875 64.0625 45.09375 64.984375 \r\nQ 41.3125 65.921875 37.59375 65.921875 \r\nQ 27.828125 65.921875 22.671875 59.328125 \r\nQ 17.53125 52.734375 16.796875 39.40625 \r\nQ 19.671875 43.65625 24.015625 45.921875 \r\nQ 28.375 48.1875 33.59375 48.1875 \r\nQ 44.578125 48.1875 50.953125 41.515625 \r\nQ 57.328125 34.859375 57.328125 23.390625 \r\nQ 57.328125 12.15625 50.6875 5.359375 \r\nQ 44.046875 -1.421875 33.015625 -1.421875 \r\nQ 20.359375 -1.421875 13.671875 8.265625 \r\nQ 6.984375 17.96875 6.984375 36.375 \r\nQ 6.984375 53.65625 15.1875 63.9375 \r\nQ 23.390625 74.21875 37.203125 74.21875 \r\nQ 40.921875 74.21875 44.703125 73.484375 \r\nQ 48.484375 72.75 52.59375 71.296875 \r\nz\r\n\" id=\"DejaVuSans-54\"/>\r\n      </defs>\r\n      <g transform=\"translate(7.2 60.098429)scale(0.1 -0.1)\">\r\n       <use xlink:href=\"#DejaVuSans-54\"/>\r\n      </g>\r\n     </g>\r\n    </g>\r\n    <g id=\"ytick_5\">\r\n     <g id=\"line2d_23\">\r\n      <path clip-path=\"url(#pc42b083dee)\" d=\"M 20.5625 10.999219 \r\nL 355.3625 10.999219 \r\n\" style=\"fill:none;stroke:#b0b0b0;stroke-linecap:square;stroke-width:0.8;\"/>\r\n     </g>\r\n     <g id=\"line2d_24\">\r\n      <g>\r\n       <use style=\"stroke:#000000;stroke-width:0.8;\" x=\"20.5625\" xlink:href=\"#mf25e0717df\" y=\"10.999219\"/>\r\n      </g>\r\n     </g>\r\n     <g id=\"text_12\">\r\n      <!-- 8 -->\r\n      <defs>\r\n       <path d=\"M 31.78125 34.625 \r\nQ 24.75 34.625 20.71875 30.859375 \r\nQ 16.703125 27.09375 16.703125 20.515625 \r\nQ 16.703125 13.921875 20.71875 10.15625 \r\nQ 24.75 6.390625 31.78125 6.390625 \r\nQ 38.8125 6.390625 42.859375 10.171875 \r\nQ 46.921875 13.96875 46.921875 20.515625 \r\nQ 46.921875 27.09375 42.890625 30.859375 \r\nQ 38.875 34.625 31.78125 34.625 \r\nz\r\nM 21.921875 38.8125 \r\nQ 15.578125 40.375 12.03125 44.71875 \r\nQ 8.5 49.078125 8.5 55.328125 \r\nQ 8.5 64.0625 14.71875 69.140625 \r\nQ 20.953125 74.21875 31.78125 74.21875 \r\nQ 42.671875 74.21875 48.875 69.140625 \r\nQ 55.078125 64.0625 55.078125 55.328125 \r\nQ 55.078125 49.078125 51.53125 44.71875 \r\nQ 48 40.375 41.703125 38.8125 \r\nQ 48.828125 37.15625 52.796875 32.3125 \r\nQ 56.78125 27.484375 56.78125 20.515625 \r\nQ 56.78125 9.90625 50.3125 4.234375 \r\nQ 43.84375 -1.421875 31.78125 -1.421875 \r\nQ 19.734375 -1.421875 13.25 4.234375 \r\nQ 6.78125 9.90625 6.78125 20.515625 \r\nQ 6.78125 27.484375 10.78125 32.3125 \r\nQ 14.796875 37.15625 21.921875 38.8125 \r\nz\r\nM 18.3125 54.390625 \r\nQ 18.3125 48.734375 21.84375 45.5625 \r\nQ 25.390625 42.390625 31.78125 42.390625 \r\nQ 38.140625 42.390625 41.71875 45.5625 \r\nQ 45.3125 48.734375 45.3125 54.390625 \r\nQ 45.3125 60.0625 41.71875 63.234375 \r\nQ 38.140625 66.40625 31.78125 66.40625 \r\nQ 25.390625 66.40625 21.84375 63.234375 \r\nQ 18.3125 60.0625 18.3125 54.390625 \r\nz\r\n\" id=\"DejaVuSans-56\"/>\r\n      </defs>\r\n      <g transform=\"translate(7.2 14.798437)scale(0.1 -0.1)\">\r\n       <use xlink:href=\"#DejaVuSans-56\"/>\r\n      </g>\r\n     </g>\r\n    </g>\r\n   </g>\r\n   <g id=\"line2d_25\">\r\n    <path clip-path=\"url(#pc42b083dee)\" d=\"M 35.780682 195.395552 \r\nL 38.338359 196.512256 \r\nL 40.896037 197.61818 \r\nL 43.453715 198.71056 \r\nL 46.011392 199.786664 \r\nL 48.56907 200.843804 \r\nL 51.126748 201.879337 \r\nL 53.684425 202.890674 \r\nL 56.242103 203.875288 \r\nL 58.79978 204.830718 \r\nL 61.357458 205.754576 \r\nL 63.915136 206.644552 \r\nL 66.472813 207.498422 \r\nL 69.030491 208.314052 \r\nL 71.588168 209.089404 \r\nL 74.145846 209.822539 \r\nL 76.703524 210.511624 \r\nL 79.261201 211.154938 \r\nL 81.818879 211.750873 \r\nL 84.376557 212.297938 \r\nL 86.934234 212.794767 \r\nL 89.491912 213.240118 \r\nL 92.049589 213.632877 \r\nL 94.607267 213.972063 \r\nL 97.164945 214.256829 \r\nL 99.722622 214.486462 \r\nL 102.2803 214.660388 \r\nL 104.837977 214.778173 \r\nL 107.395655 214.839522 \r\nL 109.953333 214.844282 \r\nL 112.51101 214.792441 \r\nL 115.068688 214.684129 \r\nL 117.626366 214.519616 \r\nL 120.184043 214.299314 \r\nL 122.741721 214.023773 \r\nL 125.299398 213.693682 \r\nL 127.857076 213.309865 \r\nL 130.414754 212.873283 \r\nL 132.972431 212.385027 \r\nL 135.530109 211.846316 \r\nL 138.087786 211.258498 \r\nL 140.645464 210.623042 \r\nL 143.203142 209.941535 \r\nL 145.760819 209.215682 \r\nL 148.318497 208.447296 \r\nL 150.876175 207.638299 \r\nL 153.433852 206.790712 \r\nL 155.99153 205.906654 \r\nL 158.549207 204.988334 \r\nL 161.106885 204.038048 \r\nL 163.664563 203.05817 \r\nL 166.22224 202.051152 \r\nL 168.779918 201.019508 \r\nL 171.337595 199.965818 \r\nL 173.895273 198.892716 \r\nL 176.452951 197.802883 \r\nL 179.010628 196.699044 \r\nL 181.568306 195.583957 \r\nL 184.125984 194.460411 \r\nL 186.683661 193.331212 \r\nL 189.241339 192.199184 \r\nL 191.799016 191.067156 \r\nL 194.356694 189.937958 \r\nL 196.914372 188.814411 \r\nL 199.472049 187.699325 \r\nL 202.029727 186.595486 \r\nL 204.587405 185.505653 \r\nL 207.145082 184.43255 \r\nL 209.70276 183.37886 \r\nL 212.260437 182.347217 \r\nL 214.818115 181.340198 \r\nL 217.375793 180.360321 \r\nL 219.93347 179.410035 \r\nL 222.491148 178.491715 \r\nL 225.048825 177.607656 \r\nL 227.606503 176.760069 \r\nL 230.164181 175.951072 \r\nL 232.721858 175.182686 \r\nL 235.279536 174.456833 \r\nL 237.837214 173.775326 \r\nL 240.394891 173.13987 \r\nL 242.952569 172.552052 \r\nL 245.510246 172.013341 \r\nL 248.067924 171.525085 \r\nL 250.625602 171.088503 \r\nL 253.183279 170.704687 \r\nL 255.740957 170.374595 \r\nL 258.298634 170.099054 \r\nL 260.856312 169.878752 \r\nL 263.41399 169.714239 \r\nL 265.971667 169.605927 \r\nL 268.529345 169.554086 \r\nL 271.087023 169.558846 \r\nL 273.6447 169.620196 \r\nL 276.202378 169.73798 \r\nL 278.760055 169.911907 \r\nL 281.317733 170.141539 \r\nL 283.875411 170.426305 \r\nL 286.433088 170.765491 \r\nL 288.990766 171.158251 \r\nL 291.548443 171.603601 \r\nL 294.106121 172.10043 \r\nL 296.663799 172.647496 \r\nL 299.221476 173.24343 \r\nL 301.779154 173.886744 \r\nL 304.336832 174.57583 \r\nL 306.894509 175.308964 \r\nL 309.452187 176.084316 \r\nL 312.009864 176.899946 \r\nL 314.567542 177.753816 \r\nL 317.12522 178.643793 \r\nL 319.682897 179.56765 \r\nL 322.240575 180.52308 \r\nL 324.798252 181.507694 \r\nL 327.35593 182.519032 \r\nL 329.913608 183.554564 \r\nL 332.471285 184.611704 \r\nL 335.028963 185.687808 \r\nL 337.586641 186.780188 \r\nL 340.144318 187.886112 \r\n\" style=\"fill:none;stroke:#1f77b4;stroke-linecap:square;stroke-width:1.5;\"/>\r\n   </g>\r\n   <g id=\"line2d_26\">\r\n    <path clip-path=\"url(#pc42b083dee)\" d=\"M 35.780682 214.62251 \r\nL 38.338359 214.434735 \r\nL 40.896037 214.191382 \r\nL 43.453715 213.893061 \r\nL 46.011392 213.540516 \r\nL 48.56907 213.134629 \r\nL 51.126748 212.676414 \r\nL 53.684425 212.167017 \r\nL 56.242103 211.607711 \r\nL 58.79978 210.999893 \r\nL 61.357458 210.345084 \r\nL 63.915136 209.644919 \r\nL 66.472813 208.901149 \r\nL 69.030491 208.115632 \r\nL 71.588168 207.290333 \r\nL 74.145846 206.427314 \r\nL 76.703524 205.528732 \r\nL 79.261201 204.596833 \r\nL 81.818879 203.633946 \r\nL 84.376557 202.642479 \r\nL 86.934234 201.624908 \r\nL 89.491912 200.583778 \r\nL 92.049589 199.521691 \r\nL 94.607267 198.441302 \r\nL 97.164945 197.345311 \r\nL 99.722622 196.236457 \r\nL 102.2803 195.117511 \r\nL 104.837977 193.991272 \r\nL 107.395655 192.860553 \r\nL 109.953333 191.728181 \r\nL 112.51101 190.596987 \r\nL 115.068688 189.469797 \r\nL 117.626366 188.349429 \r\nL 120.184043 187.238684 \r\nL 122.741721 186.140337 \r\nL 125.299398 185.057134 \r\nL 127.857076 183.991783 \r\nL 130.414754 182.946945 \r\nL 132.972431 181.925234 \r\nL 135.530109 180.929202 \r\nL 138.087786 179.961339 \r\nL 140.645464 179.024065 \r\nL 143.203142 178.119721 \r\nL 145.760819 177.250569 \r\nL 148.318497 176.41878 \r\nL 150.876175 175.626434 \r\nL 153.433852 174.875512 \r\nL 155.99153 174.16789 \r\nL 158.549207 173.505336 \r\nL 161.106885 172.889507 \r\nL 163.664563 172.321943 \r\nL 166.22224 171.804061 \r\nL 168.779918 171.337157 \r\nL 171.337595 170.922396 \r\nL 173.895273 170.560817 \r\nL 176.452951 170.253322 \r\nL 179.010628 170.00068 \r\nL 181.568306 169.803523 \r\nL 184.125984 169.662344 \r\nL 186.683661 169.577495 \r\nL 189.241339 169.549188 \r\nL 191.799016 169.577495 \r\nL 194.356694 169.662344 \r\nL 196.914372 169.803523 \r\nL 199.472049 170.00068 \r\nL 202.029727 170.253322 \r\nL 204.587405 170.560817 \r\nL 207.145082 170.922396 \r\nL 209.70276 171.337157 \r\nL 212.260437 171.804061 \r\nL 214.818115 172.321943 \r\nL 217.375793 172.889507 \r\nL 219.93347 173.505336 \r\nL 222.491148 174.16789 \r\nL 225.048825 174.875512 \r\nL 227.606503 175.626434 \r\nL 230.164181 176.41878 \r\nL 232.721858 177.250569 \r\nL 235.279536 178.119721 \r\nL 237.837214 179.024065 \r\nL 240.394891 179.961339 \r\nL 242.952569 180.929202 \r\nL 245.510246 181.925234 \r\nL 248.067924 182.946945 \r\nL 250.625602 183.991783 \r\nL 253.183279 185.057134 \r\nL 255.740957 186.140337 \r\nL 258.298634 187.238684 \r\nL 260.856312 188.349429 \r\nL 263.41399 189.469797 \r\nL 265.971667 190.596987 \r\nL 268.529345 191.728181 \r\nL 271.087023 192.860553 \r\nL 273.6447 193.991272 \r\nL 276.202378 195.117511 \r\nL 278.760055 196.236457 \r\nL 281.317733 197.345311 \r\nL 283.875411 198.441302 \r\nL 286.433088 199.521691 \r\nL 288.990766 200.583778 \r\nL 291.548443 201.624908 \r\nL 294.106121 202.642479 \r\nL 296.663799 203.633946 \r\nL 299.221476 204.596833 \r\nL 301.779154 205.528732 \r\nL 304.336832 206.427314 \r\nL 306.894509 207.290333 \r\nL 309.452187 208.115632 \r\nL 312.009864 208.901149 \r\nL 314.567542 209.644919 \r\nL 317.12522 210.345084 \r\nL 319.682897 210.999893 \r\nL 322.240575 211.607711 \r\nL 324.798252 212.167017 \r\nL 327.35593 212.676414 \r\nL 329.913608 213.134629 \r\nL 332.471285 213.540516 \r\nL 335.028963 213.893061 \r\nL 337.586641 214.191382 \r\nL 340.144318 214.434735 \r\n\" style=\"fill:none;stroke:#ff7f0e;stroke-linecap:square;stroke-width:1.5;\"/>\r\n   </g>\r\n   <g id=\"line2d_27\">\r\n    <path clip-path=\"url(#pc42b083dee)\" d=\"M 35.780682 189.367935 \r\nL 38.338359 189.268091 \r\nL 40.896037 189.164726 \r\nL 43.453715 189.057716 \r\nL 46.011392 188.946933 \r\nL 48.56907 188.832242 \r\nL 51.126748 188.713507 \r\nL 53.684425 188.590585 \r\nL 56.242103 188.463328 \r\nL 58.79978 188.331583 \r\nL 61.357458 188.195193 \r\nL 63.915136 188.053992 \r\nL 66.472813 187.907812 \r\nL 69.030491 187.756478 \r\nL 71.588168 187.599806 \r\nL 74.145846 187.437609 \r\nL 76.703524 187.269692 \r\nL 79.261201 187.095854 \r\nL 81.818879 186.915886 \r\nL 84.376557 186.729571 \r\nL 86.934234 186.536685 \r\nL 89.491912 186.336998 \r\nL 92.049589 186.130268 \r\nL 94.607267 185.916248 \r\nL 97.164945 185.694681 \r\nL 99.722622 185.4653 \r\nL 102.2803 185.22783 \r\nL 104.837977 184.981986 \r\nL 107.395655 184.727472 \r\nL 109.953333 184.463983 \r\nL 112.51101 184.191201 \r\nL 115.068688 183.9088 \r\nL 117.626366 183.616441 \r\nL 120.184043 183.313771 \r\nL 122.741721 183.000427 \r\nL 125.299398 182.676034 \r\nL 127.857076 182.340201 \r\nL 130.414754 181.992525 \r\nL 132.972431 181.632588 \r\nL 135.530109 181.259957 \r\nL 138.087786 180.874186 \r\nL 140.645464 180.474811 \r\nL 143.203142 180.061352 \r\nL 145.760819 179.633312 \r\nL 148.318497 179.190178 \r\nL 150.876175 178.731416 \r\nL 153.433852 178.256476 \r\nL 155.99153 177.764788 \r\nL 158.549207 177.25576 \r\nL 161.106885 176.728781 \r\nL 163.664563 176.183219 \r\nL 166.22224 175.618417 \r\nL 168.779918 175.033697 \r\nL 171.337595 174.428358 \r\nL 173.895273 173.801671 \r\nL 176.452951 173.152884 \r\nL 179.010628 172.481218 \r\nL 181.568306 171.785865 \r\nL 184.125984 171.065991 \r\nL 186.683661 170.32073 \r\nL 189.241339 169.549188 \r\nL 191.799016 168.750438 \r\nL 194.356694 167.92352 \r\nL 196.914372 167.06744 \r\nL 199.472049 166.181171 \r\nL 202.029727 165.263648 \r\nL 204.587405 164.313768 \r\nL 207.145082 163.330391 \r\nL 209.70276 162.312336 \r\nL 212.260437 161.258378 \r\nL 214.818115 160.167253 \r\nL 217.375793 159.037649 \r\nL 219.93347 157.86821 \r\nL 222.491148 156.657531 \r\nL 225.048825 155.404158 \r\nL 227.606503 154.106584 \r\nL 230.164181 152.763251 \r\nL 232.721858 151.372546 \r\nL 235.279536 149.932798 \r\nL 237.837214 148.442277 \r\nL 240.394891 146.899193 \r\nL 242.952569 145.301692 \r\nL 245.510246 143.647856 \r\nL 248.067924 141.935697 \r\nL 250.625602 140.163159 \r\nL 253.183279 138.328112 \r\nL 255.740957 136.428353 \r\nL 258.298634 134.461599 \r\nL 260.856312 132.425487 \r\nL 263.41399 130.317572 \r\nL 265.971667 128.135322 \r\nL 268.529345 125.876115 \r\nL 271.087023 123.537237 \r\nL 273.6447 121.115878 \r\nL 276.202378 118.609131 \r\nL 278.760055 116.013983 \r\nL 281.317733 113.327318 \r\nL 283.875411 110.545908 \r\nL 286.433088 107.666411 \r\nL 288.990766 104.685369 \r\nL 291.548443 101.599201 \r\nL 294.106121 98.4042 \r\nL 296.663799 95.096527 \r\nL 299.221476 91.672209 \r\nL 301.779154 88.127133 \r\nL 304.336832 84.45704 \r\nL 306.894509 80.657522 \r\nL 309.452187 76.724013 \r\nL 312.009864 72.65179 \r\nL 314.567542 68.435961 \r\nL 317.12522 64.07146 \r\nL 319.682897 59.553045 \r\nL 322.240575 54.875289 \r\nL 324.798252 50.032573 \r\nL 327.35593 45.019078 \r\nL 329.913608 39.828783 \r\nL 332.471285 34.455452 \r\nL 335.028963 28.892632 \r\nL 337.586641 23.133638 \r\nL 340.144318 17.171555 \r\n\" style=\"fill:none;stroke:#2ca02c;stroke-linecap:square;stroke-width:1.5;\"/>\r\n   </g>\r\n   <g id=\"patch_3\">\r\n    <path d=\"M 20.5625 224.727918 \r\nL 20.5625 7.287918 \r\n\" style=\"fill:none;stroke:#000000;stroke-linecap:square;stroke-linejoin:miter;stroke-width:0.8;\"/>\r\n   </g>\r\n   <g id=\"patch_4\">\r\n    <path d=\"M 355.3625 224.727918 \r\nL 355.3625 7.287918 \r\n\" style=\"fill:none;stroke:#000000;stroke-linecap:square;stroke-linejoin:miter;stroke-width:0.8;\"/>\r\n   </g>\r\n   <g id=\"patch_5\">\r\n    <path d=\"M 20.5625 224.727918 \r\nL 355.3625 224.727918 \r\n\" style=\"fill:none;stroke:#000000;stroke-linecap:square;stroke-linejoin:miter;stroke-width:0.8;\"/>\r\n   </g>\r\n   <g id=\"patch_6\">\r\n    <path d=\"M 20.5625 7.287918 \r\nL 355.3625 7.287918 \r\n\" style=\"fill:none;stroke:#000000;stroke-linecap:square;stroke-linejoin:miter;stroke-width:0.8;\"/>\r\n   </g>\r\n  </g>\r\n </g>\r\n <defs>\r\n  <clipPath id=\"pc42b083dee\">\r\n   <rect height=\"217.44\" width=\"334.8\" x=\"20.5625\" y=\"7.287918\"/>\r\n  </clipPath>\r\n </defs>\r\n</svg>\r\n",
      "image/png": "[encoded data removed]"
     },
     "metadata": {
      "needs_background": "light"
     }
    }
   ],
   "source": [
    "import numpy as np \n",
    "import matplotlib.pyplot as plt\n",
    "\n",
    "x=np.arange(-3,3,0.05)\n",
    "y=np.sin(x)\n",
    "z=np.cos(x)\n",
    "t=2**x\n",
    "plt.plot(x,y)\n",
    "plt.plot(x,z)\n",
    "plt.plot(x,t)\n",
    "plt.grid()\n",
    "plt.show()\n"
   ]
  },
  {
   "cell_type": "code",
   "execution_count": 61,
   "metadata": {},
   "outputs": [
    {
     "output_type": "stream",
     "name": "stdout",
     "text": "[0, 1]\n[2, 3]\n[4, 5, 6, 7]\n"
    }
   ],
   "source": [
    "import pandas as pd \n",
    "import numpy  as np \n",
    "import openpyxl as op \n",
    "\n",
    "path=\"c:/myobject/myobject/test.xlsx\"\n",
    "df=pd.DataFrame(pd.read_excel(path,'Sheet1'))\n",
    "wb=op.load_workbook(path)\n",
    "sh=wb['Sheet1']\n",
    "#print(df['pdu_name'])\n",
    "n=[i for i ,x in enumerate(df['pdu_name']) if x==\"PDU01\"]\n",
    "z=df['sb_name'][n]\n",
    "my_array=np.array(z)\n",
    "\n",
    "for t in range(len(my_array)):\n",
    "    \n",
    "    sb_name_index=[i for i ,x in enumerate(df['sb_name']) if x==my_array[t]]\n",
    "    print(sb_name_index)\n",
    "    sb_name=np.array(df['sb_name'][sb_name_index])\n",
    "    #sb_name=np.append(sb_name,sb_name)\n",
    "    pdu_name=df['pdu_name'][sb_name_index]\n",
    "    kg_no=df['kg_no'][sb_name_index]\n",
    "    #sh.cell(row=t,column=4,sb_name)\n",
    "    \n",
    "    if t==0:\n",
    "\n",
    "        for y in range(0,len(sb_name)):\n",
    "            my_row=y+2\n",
    "        \n",
    "            sh.cell(row=my_row,column=4,value=sb_name[y])\n",
    "    else:\n",
    "        for x in range(len(sb_name)):\n",
    "            my_row=my_row+1\n",
    "            sh.cell(row=my_row,column=4,value=sb_name[x])\n",
    "    #print(sb_name,pdu_name,kg_no)\n",
    "\n",
    "df['aaa']=pdu_name\n",
    "path1=\"c:/myobject/myobject/test_db.xlsx\"\n",
    "df.head(5)\n",
    "df.to_excel(path)\n",
    "#wb.save(path)\n",
    "\n"
   ]
  },
  {
   "cell_type": "code",
   "execution_count": 123,
   "metadata": {},
   "outputs": [
    {
     "output_type": "stream",
     "name": "stdout",
     "text": "0    0\n1    1\n2    0\n3    1\n4    0\n5    1\n6    2\n7    3\n8    0\n9    1\ndtype: int64\nMultiIndex([], names=[None, 'cid'])\n0                  [PDU01, PDU02]\n1                  [PDU01, PDU04]\n2    [PDU01, PDU02, PDU03, PDU04]\n3                  [PDU02, PDU03]\ndtype: object\n"
    }
   ],
   "source": [
    "import pandas as pd \n",
    "import numpy  as np \n",
    "\n",
    "\n",
    "path=\"c:/myobject/myobject/test.xlsx\"\n",
    "path1=\"c:/myobject/myobject/test1.xlsx\"\n",
    "path2=\"c:/myobject/myobject/test.csv\"\n",
    "df=pd.DataFrame(pd.read_excel(path,'Sheet1'))\n",
    "cid=df.groupby(['sb_name']).cumcount()\n",
    "print(cid)\n",
    "df1 = df.assign(cid = df.groupby(['sb_name']).cumcount()).set_index(['sb_name', 'pdu_name', 'kg_no','cid']).unstack(-1).sort_index()\n",
    "print(df1.columns)\n",
    "#df1.columns = [f'{x}{y}' for x,y in df1.columns]\n",
    "df1 = df1.reset_index()\n",
    "\n",
    "new_data=df.groupby(['sb_name'],as_index=False)[\"pdu_name\"].apply(list)\n",
    "new_data.to_excel(path1)\n",
    "#df1.to_excel(path1)\n",
    "print(new_data)\n"
   ]
  },
  {
   "cell_type": "code",
   "execution_count": 188,
   "metadata": {},
   "outputs": [
    {
     "output_type": "stream",
     "name": "stdout",
     "text": "pdu_name_kg xw  I\n0    PDU01N01  A  1\n2    PDU01N02  A  3\n4    PDU01N03  A  2\n1    PDU02N01  B  2\n5    PDU02N03  A  3\n8    PDU02N04  A  3\n9    PDU03N01  C  4\n6    PDU03N03  B  3\n3    PDU04N02  B  4\n7    PDU04N03  B  1\n               I\npdu_name xw     \nPDU01    A   6.0\nPDU02    A   6.0\n         B   2.0\nPDU03    B   3.0\n         C   4.0\nPDU04    B   5.0\n            I\npdu_name     \nPDU01     6.0\nPDU02     6.0\nPDU03     4.0\nPDU04     5.0\n          I_x  I_y\npdu_name          \nPDU01     6.0  6.0\nPDU02     6.0  6.0\nPDU02     2.0  6.0\nPDU03     3.0  4.0\nPDU03     4.0  4.0\nPDU04     5.0  5.0\n"
    }
   ],
   "source": [
    "import pandas as pd \n",
    "import numpy  as np \n",
    "\n",
    "\n",
    "path=\"c:/myobject/myobject/test.xlsx\"\n",
    "df1=pd.DataFrame(pd.read_excel(path,'Sheet1'))\n",
    "df2=pd.DataFrame(pd.read_excel(path,'Sheet2'))\n",
    "df1['pdu_name_kg']=df1['pdu_name']+df1['kg_no']\n",
    "df2['pdu_name_kg']=df2['pdu_name']+df2['kg_no']\n",
    "df1.sort_values('pdu_name_kg',inplace=True)\n",
    "df2.sort_values('pdu_name_kg',inplace=True)\n",
    "df2.head(20)\n",
    "df3=df2[['pdu_name_kg','xw','I']]\n",
    "print(df3)\n",
    "df_out=pd.merge(df1,df3,on='pdu_name_kg',how='left')\n",
    "df_out.head(20)\n",
    "subtotal=df_out.groupby(['pdu_name','xw']).agg({'I':'sum'})\n",
    "print(subtotal)\n",
    "df_subtotal=pd.DataFrame(subtotal)\n",
    "max_subtotal=df_subtotal.groupby(['pdu_name']).agg({'I':'max'})\n",
    "print(max_subtotal)\n",
    "df4=pd.merge(df_subtotal,max_subtotal,on='pdu_name',how='left')\n",
    "print(df4)\n",
    "# df4=df_out.loc[df_out['pdu_name']=='PDU01',['xw','I']]\n",
    "# print(df4)\n"
   ]
  },
  {
   "cell_type": "code",
   "execution_count": null,
   "metadata": {},
   "outputs": [],
   "source": []
  }
 ],
 "metadata": {
  "language_info": {
   "codemirror_mode": {
    "name": "ipython",
    "version": 3
   },
   "file_extension": ".py",
   "mimetype": "text/x-python",
   "name": "python",
   "nbconvert_exporter": "python",
   "pygments_lexer": "ipython3",
   "version": "3.7.6-final"
  },
  "orig_nbformat": 2,
  "kernelspec": {
   "name": "python3",
   "display_name": "Python 3"
  }
 },
 "nbformat": 4,
 "nbformat_minor": 2
}